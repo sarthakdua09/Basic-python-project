{
 "cells": [
  {
   "cell_type": "code",
   "execution_count": 1,
   "metadata": {},
   "outputs": [
    {
     "name": "stdout",
     "output_type": "stream",
     "text": [
      "rs 12000 is debited from your account\n",
      "total balance =  500\n"
     ]
    }
   ],
   "source": [
    "class account:\n",
    "    def __init__(self,balance,account_no):\n",
    "        self.balance=balance\n",
    "        self.account_no = account_no\n",
    "\n",
    "\n",
    "    def debit(self,amount):\n",
    "        self.balance -= amount\n",
    "        print(\"rs\",amount,\"is debited from your account\")\n",
    "        print(\"total balance = \",self.get_bal())\n",
    "\n",
    "\n",
    "    def credit(self,amount):\n",
    "        self.balance+=amount\n",
    "        print(\"rs\",amount,\"is credited in your account\")\n",
    "        print(\"total balance = \",self.get_bal())\n",
    "\n",
    "\n",
    "    def get_bal(self):\n",
    "        return self.balance\n",
    "    \n",
    "\n",
    "\n",
    "\n",
    "\n",
    "                    \n",
    "account1=account(12500,11225588)\n",
    "account1.debit(12000)\n",
    "\n"
   ]
  },
  {
   "cell_type": "code",
   "execution_count": null,
   "metadata": {},
   "outputs": [],
   "source": []
  }
 ],
 "metadata": {
  "kernelspec": {
   "display_name": "Python 3",
   "language": "python",
   "name": "python3"
  },
  "language_info": {
   "codemirror_mode": {
    "name": "ipython",
    "version": 3
   },
   "file_extension": ".py",
   "mimetype": "text/x-python",
   "name": "python",
   "nbconvert_exporter": "python",
   "pygments_lexer": "ipython3",
   "version": "3.13.0"
  }
 },
 "nbformat": 4,
 "nbformat_minor": 2
}
